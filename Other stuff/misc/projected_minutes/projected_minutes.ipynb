{
 "cells": [
  {
   "cell_type": "markdown",
   "id": "c9ddd9cd-7a45-49c6-9f84-31b1100d4011",
   "metadata": {},
   "source": [
    "## Parse rotowire for players' projected minutes"
   ]
  },
  {
   "cell_type": "markdown",
   "id": "08277086-5f44-4854-8445-843b5a368659",
   "metadata": {},
   "source": [
    "### Goal:\n",
    "\n",
    "- Get matchups for the day\n",
    "- parse the rotowire website for the projected minutes columns as below (from rotowire's [NBA Daily Lineups])(https://www.rotowire.com/basketball/nba-lineups.php)"
   ]
  },
  {
   "cell_type": "markdown",
   "id": "c3ced1bd-37b8-4718-9569-884433cab3cc",
   "metadata": {},
   "source": [
    "<img width = \"280\" src=\"proj_min.png\">"
   ]
  },
  {
   "cell_type": "code",
   "execution_count": 6,
   "id": "54a71d09-7a4e-4aa2-b4e8-3ce1041eddaa",
   "metadata": {},
   "outputs": [],
   "source": [
    "import datetime\n",
    "import json\n",
    "import requests"
   ]
  },
  {
   "cell_type": "code",
   "execution_count": 7,
   "id": "e21420ff-f961-4b65-b1eb-3ca1f7f84fe7",
   "metadata": {},
   "outputs": [],
   "source": [
    "def get_matchups(sport,date):\n",
    "\turl = 'https://api-secure.sports.yahoo.com/v1/editorial/s/scoreboard?leagues='+sport+'&date='+date\n",
    "\tr = requests.get(url)\n",
    "\tj = json.loads(r.text)\n",
    "\tj = j['service']['scoreboard']\n",
    "\tif 'games' not in j.keys():\n",
    "\t\tprint(\"Didn't Work\")\n",
    "\t\treturn\n",
    "\tgames = list(j['games'].keys())\n",
    "\tmatchups = []\n",
    "\tfor game in games:\n",
    "\t\tgame_info = j['games'][game]\n",
    "\t\thomeId = game_info['home_team_id']\n",
    "\t\thome_team = j['teams'][homeId]['abbr']\n",
    "\t\tawayId = game_info['away_team_id']\n",
    "\t\taway_team = j['teams'][awayId]['abbr']\n",
    "\t\tmatchups.append([home_team,away_team])\n",
    "\treturn matchups"
   ]
  },
  {
   "cell_type": "code",
   "execution_count": 8,
   "id": "0fa493d8-3bf8-4536-aeea-23c86650b12a",
   "metadata": {},
   "outputs": [
    {
     "name": "stdout",
     "output_type": "stream",
     "text": [
      "[['ATL', 'NO'], ['BOS', 'MIA'], ['CHI', 'BKN'], ['MIN', 'LAL']]\n"
     ]
    }
   ],
   "source": [
    "season = '2024-25'\n",
    "sport = 'nba'\n",
    "today = str(datetime.datetime.today())[:10]\n",
    "matchups = get_matchups(sport,today)\n",
    "\n",
    "print(matchups)\n"
   ]
  },
  {
   "cell_type": "markdown",
   "id": "672a5805-e4f9-40f9-b4dd-e9af8f632a3c",
   "metadata": {},
   "source": [
    "\n",
    "\n",
    "### Next Step\n",
    "\n",
    " Go to rotowire and get projected minutes from its API\n",
    " If you get blocked by too many calls, rotate through a list of proxies (I can help set that up)\n",
    "\n",
    "\n"
   ]
  },
  {
   "cell_type": "code",
   "execution_count": 4,
   "id": "009d8bf5-3acb-4620-bf62-bc11e64aff3a",
   "metadata": {},
   "outputs": [
    {
     "name": "stdout",
     "output_type": "stream",
     "text": [
      "[{'id': '3523', 'firstname': 'Daniel', 'lastname': 'Theis', 'name': 'Daniel Theis', 'link': '/basketball/player/daniel-theis-3523', 'pos': 'C', 'inj': 'No', 'team': 'NOP', 'lineup': 'BE', 'proj': 17, 'avg': 14, 'min': 10, 'max': 18, 'gap': 3, 'stdev': 4.029888335921977, 'hasRecentGames': True}, {'id': '4777', 'firstname': 'Zion', 'lastname': 'Williamson', 'name': 'Zion Williamson', 'link': '/basketball/player/zion-williamson-4777', 'pos': 'F', 'inj': 'Out', 'team': 'NOP', 'lineup': 'BE', 'proj': 0, 'avg': None, 'min': None, 'max': None, 'gap': 0, 'stdev': 15, 'hasRecentGames': False}, {'id': '5411', 'firstname': 'Jeremiah', 'lastname': 'Robinson-Earl', 'name': 'Jeremiah Robinson-Earl', 'link': '/basketball/player/jeremiah-robinson-earl-5411', 'pos': 'F', 'inj': 'No', 'team': 'NOP', 'lineup': 'BE', 'proj': 17, 'avg': 24, 'min': 17, 'max': 30, 'gap': -7, 'stdev': 6.356099432828281, 'hasRecentGames': True}, {'id': '5796', 'firstname': 'Jamal', 'lastname': 'Cain', 'name': 'Jamal Cain', 'link': '/basketball/player/jamal-cain-5796', 'pos': 'F', 'inj': 'No', 'team': 'NOP', 'lineup': 'BE', 'proj': 0, 'avg': 17, 'min': 10, 'max': 23, 'gap': -17, 'stdev': 6.701989754294367, 'hasRecentGames': True}, {'id': '6028', 'firstname': 'Antonio', 'lastname': 'Reeves', 'name': 'Antonio Reeves', 'link': '/basketball/player/antonio-reeves-6028', 'pos': 'G', 'inj': 'No', 'team': 'NOP', 'lineup': 'BE', 'proj': 0, 'avg': 16, 'min': 4, 'max': 28, 'gap': -16, 'stdev': 11.814539065631521, 'hasRecentGames': True}, {'id': '3437', 'firstname': 'CJ', 'lastname': 'McCollum', 'name': 'CJ McCollum', 'link': '/basketball/player/cj-mccollum-3437', 'pos': 'G', 'inj': 'No', 'team': 'NOP', 'lineup': 'SG', 'proj': 32, 'avg': 30, 'min': 26, 'max': 34, 'gap': 2, 'stdev': 3.897114317029974, 'hasRecentGames': True}, {'id': '3861', 'firstname': 'Brandon', 'lastname': 'Ingram', 'name': 'Brandon Ingram', 'link': '/basketball/player/brandon-ingram-3861', 'pos': 'F', 'inj': 'GTD', 'team': 'NOP', 'lineup': 'SF', 'proj': 32, 'avg': 36, 'min': 34, 'max': 37, 'gap': -4, 'stdev': 1.7204650534085253, 'hasRecentGames': True}, {'id': '5401', 'firstname': 'Trey', 'lastname': 'Murphy', 'name': 'Trey Murphy', 'link': '/basketball/player/trey-murphy-5401', 'pos': 'F', 'inj': 'No', 'team': 'NOP', 'lineup': 'PF', 'proj': 33, 'avg': 35, 'min': 29, 'max': 40, 'gap': -2, 'stdev': 5.194188275056527, 'hasRecentGames': True}, {'id': '5414', 'firstname': 'Herbert', 'lastname': 'Jones', 'name': 'Herbert Jones', 'link': '/basketball/player/herbert-jones-5414', 'pos': 'F', 'inj': 'GTD', 'team': 'NOP', 'lineup': 'BE', 'proj': 0, 'avg': None, 'min': None, 'max': None, 'gap': 0, 'stdev': 15, 'hasRecentGames': False}, {'id': '4588', 'firstname': 'Javonte', 'lastname': 'Green', 'name': 'Javonte Green', 'link': '/basketball/player/javonte-green-4588', 'pos': 'F', 'inj': 'No', 'team': 'NOP', 'lineup': 'BE', 'proj': 14, 'avg': 26, 'min': 23, 'max': 29, 'gap': -12, 'stdev': 2.9, 'hasRecentGames': True}, {'id': '5935', 'firstname': 'Jordan', 'lastname': 'Hawkins', 'name': 'Jordan Hawkins', 'link': '/basketball/player/jordan-hawkins-5935', 'pos': 'G', 'inj': 'Out', 'team': 'NOP', 'lineup': 'BE', 'proj': 0, 'avg': 20, 'min': 19, 'max': 22, 'gap': -20, 'stdev': 1.632993161855452, 'hasRecentGames': True}, {'id': '5406', 'firstname': 'Brandon', 'lastname': 'Boston', 'name': 'Brandon Boston', 'link': '/basketball/player/brandon-boston-5406', 'pos': 'F', 'inj': 'No', 'team': 'NOP', 'lineup': 'BE', 'proj': 20, 'avg': 27, 'min': 21, 'max': 33, 'gap': -7, 'stdev': 6.0074953183502355, 'hasRecentGames': True}, {'id': '5737', 'firstname': 'Karlo', 'lastname': 'Matkovic', 'name': 'Karlo Matkovic', 'link': '/basketball/player/karlo-matkovic-5737', 'pos': 'F', 'inj': 'No', 'team': 'NOP', 'lineup': 'BE', 'proj': 0, 'avg': 11, 'min': 6, 'max': 16, 'gap': -11, 'stdev': 4.784233364802441, 'hasRecentGames': True}, {'id': '3594', 'firstname': 'Elfrid', 'lastname': 'Payton', 'name': 'Elfrid Payton', 'link': '/basketball/player/elfrid-payton-3594', 'pos': 'G', 'inj': 'No', 'team': 'NOP', 'lineup': 'BE', 'proj': 15, 'avg': 22, 'min': 17, 'max': 28, 'gap': -7, 'stdev': 5.627314338711377, 'hasRecentGames': True}, {'id': '5424', 'firstname': 'Jose', 'lastname': 'Alvarado', 'name': 'Jose Alvarado', 'link': '/basketball/player/jose-alvarado-5424', 'pos': 'G', 'inj': 'Out', 'team': 'NOP', 'lineup': 'BE', 'proj': 0, 'avg': None, 'min': None, 'max': None, 'gap': 0, 'stdev': 15, 'hasRecentGames': False}, {'id': '6151', 'firstname': 'Trey', 'lastname': 'Jemison', 'name': 'Trey Jemison', 'link': '/basketball/player/trey-jemison-6151', 'pos': 'C', 'inj': 'No', 'team': 'NOP', 'lineup': 'BE', 'proj': 0, 'avg': 13, 'min': 9, 'max': 17, 'gap': -13, 'stdev': 3.838538133196022, 'hasRecentGames': True}, {'id': '3856', 'firstname': 'Dejounte', 'lastname': 'Murray', 'name': 'Dejounte Murray', 'link': '/basketball/player/dejounte-murray-3856', 'pos': 'G', 'inj': 'No', 'team': 'NOP', 'lineup': 'PG', 'proj': 33, 'avg': 30, 'min': 26, 'max': 33, 'gap': 3, 'stdev': 3.299831645537222, 'hasRecentGames': True}, {'id': '6268', 'firstname': 'Yves', 'lastname': 'Missi', 'name': 'Yves Missi', 'link': '/basketball/player/yves-missi-6268', 'pos': 'C', 'inj': 'No', 'team': 'NOP', 'lineup': 'C', 'proj': 27, 'avg': 26, 'min': 22, 'max': 31, 'gap': 1, 'stdev': 4.288946459026396, 'hasRecentGames': True}]\n"
     ]
    }
   ],
   "source": [
    "# Example\n",
    "# Only works for away team\n",
    "# Needs a paid subscription for home team\n",
    "\n",
    "url = 'https://www.rotowire.com/basketball/ajax/get-projected-minutes.php?team=NOP'\n",
    "r = requests.get(url)\n",
    "j = r.json()\n",
    "print(j)"
   ]
  },
  {
   "cell_type": "code",
   "execution_count": null,
   "id": "be1e7491-da59-4ddd-91b3-b8ce9977efbe",
   "metadata": {},
   "outputs": [],
   "source": []
  }
 ],
 "metadata": {
  "kernelspec": {
   "display_name": "Python 3 (ipykernel)",
   "language": "python",
   "name": "python3"
  },
  "language_info": {
   "codemirror_mode": {
    "name": "ipython",
    "version": 3
   },
   "file_extension": ".py",
   "mimetype": "text/x-python",
   "name": "python",
   "nbconvert_exporter": "python",
   "pygments_lexer": "ipython3",
   "version": "3.11.5"
  }
 },
 "nbformat": 4,
 "nbformat_minor": 5
}
